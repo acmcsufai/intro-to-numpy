{
  "nbformat": 4,
  "nbformat_minor": 0,
  "metadata": {
    "colab": {
      "provenance": []
    },
    "kernelspec": {
      "name": "python3",
      "display_name": "Python 3"
    },
    "language_info": {
      "name": "python"
    }
  },
  "cells": [
    {
      "cell_type": "markdown",
      "source": [
        "# Numpy Syntax"
      ],
      "metadata": {
        "id": "HlFmRmkxvHrg"
      }
    },
    {
      "cell_type": "markdown",
      "source": [
        "## Import Numpy"
      ],
      "metadata": {
        "id": "coB8rH2UvSi0"
      }
    },
    {
      "cell_type": "code",
      "execution_count": null,
      "metadata": {
        "id": "0HouQm98qOxy"
      },
      "outputs": [],
      "source": [
        "# Import numpy\n",
        "import numpy as np"
      ]
    },
    {
      "cell_type": "markdown",
      "source": [
        "## Numpy Array"
      ],
      "metadata": {
        "id": "A0kj-xJUvXVI"
      }
    },
    {
      "cell_type": "code",
      "source": [
        "# Python list\n",
        "python_list = [1,2,3]\n",
        "print(type(python_list))"
      ],
      "metadata": {
        "colab": {
          "base_uri": "https://localhost:8080/"
        },
        "id": "ZYH1dn2mqf-M",
        "outputId": "851255fc-e4d5-4462-ed65-3c06cb9e453c"
      },
      "execution_count": null,
      "outputs": [
        {
          "output_type": "stream",
          "name": "stdout",
          "text": [
            "<class 'list'>\n"
          ]
        }
      ]
    },
    {
      "cell_type": "code",
      "source": [
        "# Numpy Array\n",
        "numpy_array = np.array(python_list)\n",
        "print(numpy_array)\n",
        "print(type(numpy_array))"
      ],
      "metadata": {
        "colab": {
          "base_uri": "https://localhost:8080/"
        },
        "id": "0ftzEO0HqjxY",
        "outputId": "e4a7ee55-0cfb-467f-df38-65c2cce418a5"
      },
      "execution_count": null,
      "outputs": [
        {
          "output_type": "stream",
          "name": "stdout",
          "text": [
            "[1 2 3]\n",
            "<class 'numpy.ndarray'>\n"
          ]
        }
      ]
    },
    {
      "cell_type": "code",
      "source": [
        "# Matrix\n",
        "numpy_matrix = np.matrix([[1,2,3],[4,5,6]])\n",
        "print(numpy_matrix)\n",
        "print(type(numpy_matrix))"
      ],
      "metadata": {
        "colab": {
          "base_uri": "https://localhost:8080/"
        },
        "id": "psfbfFgSqspT",
        "outputId": "175e3799-d1e7-4cba-9d30-6f463dbd09ea"
      },
      "execution_count": null,
      "outputs": [
        {
          "output_type": "stream",
          "name": "stdout",
          "text": [
            "[[1 2 3]\n",
            " [4 5 6]]\n",
            "<class 'numpy.matrix'>\n"
          ]
        }
      ]
    },
    {
      "cell_type": "code",
      "source": [
        "# arange\n",
        "one_to_ten = np.arange(1,11)\n",
        "print(one_to_ten)\n",
        "one_to_ten_with_step = np.arange(1,11,3)\n",
        "print(one_to_ten_with_step)"
      ],
      "metadata": {
        "colab": {
          "base_uri": "https://localhost:8080/"
        },
        "id": "U0SFRzGYsZvT",
        "outputId": "679db014-3a6b-4f99-b023-6e0e21aaea9b"
      },
      "execution_count": null,
      "outputs": [
        {
          "output_type": "stream",
          "name": "stdout",
          "text": [
            "[ 1  2  3  4  5  6  7  8  9 10]\n",
            "[ 1  4  7 10]\n"
          ]
        }
      ]
    },
    {
      "cell_type": "code",
      "source": [
        "# ones, zeros, eye\n",
        "ones_ex = np.ones(5) # filled with 1s\n",
        "zeros_ex = np.zeros(5) # filled with 0s\n",
        "eye_ex = np.eye(5) # Identity Matrix\n",
        "print(ones_ex)\n",
        "print(zeros_ex)\n",
        "print(eye_ex)"
      ],
      "metadata": {
        "colab": {
          "base_uri": "https://localhost:8080/"
        },
        "id": "3dPrTrais6u9",
        "outputId": "cf0bde63-e950-4106-c51c-201027c5f00d"
      },
      "execution_count": null,
      "outputs": [
        {
          "output_type": "stream",
          "name": "stdout",
          "text": [
            "[1. 1. 1. 1. 1.]\n",
            "[0. 0. 0. 0. 0.]\n",
            "[[1. 0. 0. 0. 0.]\n",
            " [0. 1. 0. 0. 0.]\n",
            " [0. 0. 1. 0. 0.]\n",
            " [0. 0. 0. 1. 0.]\n",
            " [0. 0. 0. 0. 1.]]\n"
          ]
        }
      ]
    },
    {
      "cell_type": "code",
      "source": [
        "# random.rand\n",
        "random_array = np.random.rand(5,10)\n",
        "print(random_array)\n",
        "print(random_array.shape)"
      ],
      "metadata": {
        "colab": {
          "base_uri": "https://localhost:8080/"
        },
        "id": "56G-n7e_uWOa",
        "outputId": "e83dc938-5d72-45c5-93fd-0a3fa354a4fa"
      },
      "execution_count": null,
      "outputs": [
        {
          "output_type": "stream",
          "name": "stdout",
          "text": [
            "[[0.53429405 0.18485563 0.63997179 0.93038279 0.40535084 0.86362807\n",
            "  0.33410863 0.5644295  0.01546389 0.92104026]\n",
            " [0.12259153 0.19850534 0.86444829 0.86664204 0.61860511 0.35342317\n",
            "  0.72428406 0.24619028 0.55453856 0.85879442]\n",
            " [0.64384127 0.52626167 0.92895097 0.43594046 0.20074973 0.47733571\n",
            "  0.19689226 0.22511581 0.67055502 0.07756007]\n",
            " [0.04296716 0.41078291 0.06389432 0.59623517 0.11036265 0.47168511\n",
            "  0.15217717 0.69348863 0.06645151 0.28712274]\n",
            " [0.96249941 0.02733648 0.80217918 0.56014755 0.8030844  0.21074387\n",
            "  0.96819377 0.70358261 0.45844447 0.23863957]]\n",
            "(5, 10)\n"
          ]
        }
      ]
    },
    {
      "cell_type": "code",
      "source": [
        "# 5x5 matrix with random integer from 1 to 10\n",
        "randomint_array = np.random.randint(1,10,(5,5))\n",
        "print(randomint_array)"
      ],
      "metadata": {
        "colab": {
          "base_uri": "https://localhost:8080/"
        },
        "id": "LtyD-rGrvBuU",
        "outputId": "d557b19b-c008-4518-cd44-9fc8111cd52b"
      },
      "execution_count": null,
      "outputs": [
        {
          "output_type": "stream",
          "name": "stdout",
          "text": [
            "[[46 85 60 17 25]\n",
            " [73 92 49 70 52]\n",
            " [40 11 52 40 54]\n",
            " [86 40 36 36 70]\n",
            " [26 90 16 16 50]]\n"
          ]
        }
      ]
    },
    {
      "cell_type": "code",
      "source": [
        "# reshape\n",
        "original_array = np.arange(1,17)\n",
        "reshaped_array = original_array.reshape(4,4)\n",
        "print(original_array)\n",
        "print(reshaped_array)\n",
        "print(reshaped_array.shape)"
      ],
      "metadata": {
        "colab": {
          "base_uri": "https://localhost:8080/"
        },
        "id": "HFn6Lb-IwG5g",
        "outputId": "bd6868fd-62a8-4364-cf59-e38eed02c991"
      },
      "execution_count": null,
      "outputs": [
        {
          "output_type": "stream",
          "name": "stdout",
          "text": [
            "[ 1  2  3  4  5  6  7  8  9 10 11 12 13 14 15 16]\n",
            "[[ 1  2  3  4]\n",
            " [ 5  6  7  8]\n",
            " [ 9 10 11 12]\n",
            " [13 14 15 16]]\n",
            "(4, 4)\n"
          ]
        }
      ]
    },
    {
      "cell_type": "markdown",
      "source": [
        "## Numpy Indexing & Selecting"
      ],
      "metadata": {
        "id": "cQywovb_0sdU"
      }
    },
    {
      "cell_type": "code",
      "source": [
        "np_arr = np.arange(1,11)\n",
        "print(np_arr)\n",
        "print(np_arr[1:5]) # 2,3,4,5\n",
        "np_arr_2d = np.random.randint(1,10,(5,5))\n",
        "print(\"\\n 2D: \\n\", np_arr_2d)\n",
        "print(np_arr_2d[0]) # first row\n",
        "print(np_arr_2d[0,2]) # fist row, second column"
      ],
      "metadata": {
        "colab": {
          "base_uri": "https://localhost:8080/"
        },
        "id": "X53d0bcKwyxW",
        "outputId": "49386f3b-8e3e-4274-96e4-15b760805b50"
      },
      "execution_count": null,
      "outputs": [
        {
          "output_type": "stream",
          "name": "stdout",
          "text": [
            "[ 1  2  3  4  5  6  7  8  9 10]\n",
            "[2 3 4 5]\n",
            "\n",
            " 2D: \n",
            " [[9 9 6 4 7]\n",
            " [3 9 2 8 2]\n",
            " [2 7 2 2 5]\n",
            " [5 1 1 9 6]\n",
            " [7 3 5 7 2]]\n",
            "[9 9 6 4 7]\n",
            "6\n"
          ]
        }
      ]
    },
    {
      "cell_type": "code",
      "source": [
        "np_arr_select = np.array([10,20,-1,-2,-30])\n",
        "print(np_arr_select[np_arr_select > 0])\n",
        "print(np_arr_select[np_arr_select % 2 == 0])"
      ],
      "metadata": {
        "colab": {
          "base_uri": "https://localhost:8080/"
        },
        "id": "zsiHeKE80x-K",
        "outputId": "ed83a35a-76ad-4079-cc1b-3e1f3d9d3924"
      },
      "execution_count": null,
      "outputs": [
        {
          "output_type": "stream",
          "name": "stdout",
          "text": [
            "[10 20]\n",
            "[ 10  20  -2 -30]\n"
          ]
        }
      ]
    },
    {
      "cell_type": "markdown",
      "source": [
        "## Numpy Operation"
      ],
      "metadata": {
        "id": "F1YWrsEO2niA"
      }
    },
    {
      "cell_type": "code",
      "source": [
        "np_arr_operation = np.array([2,4,6,8,10,-100,-2])\n",
        "print(np_arr_operation.sum())\n",
        "print(np_arr_operation.max())\n",
        "print(np_arr_operation.min())\n",
        "print(np_arr_operation.mean())"
      ],
      "metadata": {
        "colab": {
          "base_uri": "https://localhost:8080/"
        },
        "id": "3bQxOy6W13Gy",
        "outputId": "0907cc93-aca7-4100-ce1e-df0b1bc183b5"
      },
      "execution_count": null,
      "outputs": [
        {
          "output_type": "stream",
          "name": "stdout",
          "text": [
            "-72\n",
            "10\n",
            "-100\n",
            "-10.285714285714286\n"
          ]
        }
      ]
    },
    {
      "cell_type": "markdown",
      "source": [
        "# Coding Challenge (Numpy)"
      ],
      "metadata": {
        "id": "gwgsz8OI4z0u"
      }
    },
    {
      "cell_type": "markdown",
      "source": [
        "## Design a Python function using NumPy to help a small business track its weekly sales. The business sells three different products, and the sales data is stored in a 2D array where each row represents a day of the week (Monday to Friday), and each column represents one of the products. Your function should calculate the total for each day and store it in a 1D Array\n",
        "\n",
        "Hint: row is axis = 1 in numpy solution"
      ],
      "metadata": {
        "id": "9EVzoNf_44y7"
      }
    },
    {
      "cell_type": "code",
      "source": [
        "import numpy as np\n",
        "\n",
        "# Sample data: rows are days, columns are products\n",
        "sales_data = np.array([\n",
        "    [10, 15, 20],  # Monday's sales for Product 1, 2, 3\n",
        "    [25, 30, 35],  # Tuesday's sales for Product 1, 2, 3\n",
        "    [45, 20, 10],  # Wednesday's sales for Product 1, 2, 3\n",
        "    [50, 50, 50],  # Thursday's sales for Product 1, 2, 3\n",
        "    [12, 20, 10]   # Friday's sales for Product 1, 2, 3\n",
        "])\n",
        "total_sales_each_day = np.zeros(5) # [0,0,0,0,0]\n",
        "\n",
        "def analyze_sales(data):\n",
        "    # Your code here to calculate daily totals\n",
        "    return total_sales_each_day\n",
        "\n",
        "# Example call to your function\n",
        "print(analyze_sales(sales_data))\n"
      ],
      "metadata": {
        "colab": {
          "base_uri": "https://localhost:8080/"
        },
        "id": "KEH5OtVD41nW",
        "outputId": "66eeacd2-ea38-4c5b-9b71-cd3bf0d271bc"
      },
      "execution_count": null,
      "outputs": [
        {
          "output_type": "stream",
          "name": "stdout",
          "text": [
            "[0. 0. 0. 0. 0.]\n"
          ]
        }
      ]
    },
    {
      "cell_type": "markdown",
      "source": [
        "## Solution Below: SPOLER ALERT (Brute Force vs Cleaner vs Numpy Way)\n",
        "\n"
      ],
      "metadata": {
        "id": "FUj-ddJX6wrK"
      }
    },
    {
      "cell_type": "code",
      "source": [
        "# Sample data: rows are days, columns are products\n",
        "sales_data = np.array([\n",
        "    [10, 15, 20],  # Monday's sales for Product 1, 2, 3\n",
        "    [25, 30, 35],  # Tuesday's sales for Product 1, 2, 3\n",
        "    [45, 20, 10],  # Wednesday's sales for Product 1, 2, 3\n",
        "    [50, 50, 50],  # Thursday's sales for Product 1, 2, 3\n",
        "    [12, 20, 10]   # Friday's sales for Product 1, 2, 3\n",
        "])\n",
        "total_sales_each_day = np.zeros(5) # [0,0,0,0,0]\n",
        "\n",
        "def analyze_sales(data):\n",
        "    # Calculate each sum of each row\n",
        "    total_sales_each_day[0] = sales_data[0].sum()\n",
        "    total_sales_each_day[1] = sales_data[1].sum()\n",
        "    total_sales_each_day[2] = sales_data[2].sum()\n",
        "    total_sales_each_day[3] = sales_data[3].sum()\n",
        "    total_sales_each_day[4] = sales_data[4].sum()\n",
        "    return total_sales_each_day\n",
        "\n",
        "# Example call to your function\n",
        "print(analyze_sales(sales_data))"
      ],
      "metadata": {
        "colab": {
          "base_uri": "https://localhost:8080/"
        },
        "id": "TpBBUsYL7B-L",
        "outputId": "e958de5c-1733-4893-f033-37e33fbda76f"
      },
      "execution_count": null,
      "outputs": [
        {
          "output_type": "stream",
          "name": "stdout",
          "text": [
            "[ 45.  90.  75. 150.  42.]\n"
          ]
        }
      ]
    },
    {
      "cell_type": "code",
      "source": [
        "# Sample data: rows are days, columns are products\n",
        "sales_data = np.array([\n",
        "    [10, 15, 20],  # Monday's sales for Product 1, 2, 3\n",
        "    [25, 30, 35],  # Tuesday's sales for Product 1, 2, 3\n",
        "    [45, 20, 10],  # Wednesday's sales for Product 1, 2, 3\n",
        "    [50, 50, 50],  # Thursday's sales for Product 1, 2, 3\n",
        "    [12, 20, 10]   # Friday's sales for Product 1, 2, 3\n",
        "])\n",
        "total_sales_each_day = np.zeros(5) # [0,0,0,0,0]\n",
        "\n",
        "def analyze_sales(data):\n",
        "    # Loop through and calculate sum of each row\n",
        "    for idx,element in enumerate(sales_data):\n",
        "      total_sales_each_day[idx] = sales_data[idx].sum()\n",
        "    return total_sales_each_day\n",
        "\n",
        "# Example call to your function\n",
        "print(analyze_sales(sales_data))"
      ],
      "metadata": {
        "colab": {
          "base_uri": "https://localhost:8080/"
        },
        "id": "B9vjeY_L61G9",
        "outputId": "db741776-69bb-46e6-c4e7-daa71fbb7930"
      },
      "execution_count": null,
      "outputs": [
        {
          "output_type": "stream",
          "name": "stdout",
          "text": [
            "[ 45.  90.  75. 150.  42.]\n"
          ]
        }
      ]
    },
    {
      "cell_type": "code",
      "source": [
        "# Sample data: rows are days, columns are products\n",
        "sales_data = np.array([\n",
        "    [10, 15, 20],  # Monday's sales for Product 1, 2, 3\n",
        "    [25, 30, 35],  # Tuesday's sales for Product 1, 2, 3\n",
        "    [45, 20, 10],  # Wednesday's sales for Product 1, 2, 3\n",
        "    [50, 50, 50],  # Thursday's sales for Product 1, 2, 3\n",
        "    [12, 20, 10]   # Friday's sales for Product 1, 2, 3\n",
        "])\n",
        "total_sales_each_day = np.zeros(5) # [0,0,0,0,0]\n",
        "\n",
        "def analyze_sales(data):\n",
        "    # Using np.sum()\n",
        "    total_sales_each_day = np.sum(sales_data, axis = 1)\n",
        "    return total_sales_each_day\n",
        "\n",
        "# Example call to your function\n",
        "print(analyze_sales(sales_data))"
      ],
      "metadata": {
        "colab": {
          "base_uri": "https://localhost:8080/"
        },
        "id": "23Lsdsu064YV",
        "outputId": "b5e6571d-8c98-48c2-ba26-659e3b98a446"
      },
      "execution_count": null,
      "outputs": [
        {
          "output_type": "stream",
          "name": "stdout",
          "text": [
            "[ 45  90  75 150  42]\n"
          ]
        }
      ]
    },
    {
      "cell_type": "code",
      "source": [],
      "metadata": {
        "id": "4Zbf7xpU70WQ"
      },
      "execution_count": null,
      "outputs": []
    }
  ]
}